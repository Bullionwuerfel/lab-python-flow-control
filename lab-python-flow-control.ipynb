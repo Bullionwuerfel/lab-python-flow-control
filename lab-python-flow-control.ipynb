{
  "cells": [
    {
      "cell_type": "code",
      "source": [
        "\n",
        "products=[\"t-shirt\", \"mug\", \"hat\", \"book\", \"keychain\"]\n",
        "\n",
        "inventory={}\n",
        "\n",
        "for i in products:\n",
        "  quantity = int(input(f\"how many do we have of this item:{i}?\"))\n",
        "  inventory[i]=quantity\n",
        "\n",
        "customer_orders=set()\n",
        "\n",
        "answer=\"y\"\n",
        "while answer==\"y\":\n",
        "  customer_orders.add(input(f\"please choose an item to order from this list {products}: \"))\n",
        "  answer=input(\"Do you want to order another item?(y/n): \")\n",
        "\n",
        "\n",
        "TPO= len(customer_orders)\n",
        "\n",
        "totalnumerofprod=0\n",
        "for i in inventory:\n",
        "  totalnumerofprod+=inventory[i]\n",
        "\n",
        "PPO= (len(customer_orders)*100)//totalnumerofprod\n",
        "\n",
        "print(\"Order Statistics:\")\n",
        "\n",
        "print(f\"Total Products Ordered: {TPO}\")\n",
        "print(f\"Percentage of Products Ordered: {PPO}\")\n",
        "\n",
        "for i in  customer_orders:\n",
        "  inventory[i]-=1\n",
        "\n",
        "print(inventory)\n",
        "\n",
        "\n"
      ],
      "metadata": {
        "colab": {
          "base_uri": "https://localhost:8080/"
        },
        "id": "t77suctA5Wom",
        "outputId": "2c2b7427-f13a-4fba-c86a-4e13e54f672a"
      },
      "id": "t77suctA5Wom",
      "execution_count": 2,
      "outputs": [
        {
          "output_type": "stream",
          "name": "stdout",
          "text": [
            "how many do we have of this item:t-shirt?4\n",
            "how many do we have of this item:mug?4\n",
            "how many do we have of this item:hat?4\n",
            "how many do we have of this item:book?4\n",
            "how many do we have of this item:keychain?4\n",
            "please choose an item to order from this list ['t-shirt', 'mug', 'hat', 'book', 'keychain']: mug\n",
            "Do you want to order another item?(y/n): n\n",
            "Order Statistics:\n",
            "Total Products Ordered: 1\n",
            "Percentage of Products Ordered: 5\n",
            "{'t-shirt': 4, 'mug': 3, 'hat': 4, 'book': 4, 'keychain': 4}\n"
          ]
        }
      ]
    },
    {
      "cell_type": "markdown",
      "id": "d3bfc191-8885-42ee-b0a0-bbab867c6f9f",
      "metadata": {
        "tags": [],
        "id": "d3bfc191-8885-42ee-b0a0-bbab867c6f9f"
      },
      "source": [
        "# Lab | Flow Control"
      ]
    },
    {
      "cell_type": "markdown",
      "id": "3851fcd1-cf98-4653-9c89-e003b7ec9400",
      "metadata": {
        "id": "3851fcd1-cf98-4653-9c89-e003b7ec9400"
      },
      "source": [
        "## Exercise: Managing Customer Orders Optimized\n",
        "\n",
        "In the last lab, you were starting an online store that sells various products. To ensure smooth operations, you developed a program that manages customer orders and inventory.\n",
        "\n",
        "You did so without using flow control. Let's go a step further and improve this code.\n",
        "\n",
        "Follow the steps below to complete the exercise:\n",
        "\n",
        "1. Look at your code from the lab data structures, and improve repeated code with loops.\n",
        "\n",
        "2. Instead of asking the user to input the name of three products that a customer wants to order, do the following:\n",
        "    \n",
        "    a. Prompt the user to enter the name of a product that a customer wants to order.\n",
        "    \n",
        "    b. Add the product name to the \"customer_orders\" set.\n",
        "    \n",
        "    c. Ask the user if they want to add another product (yes/no).\n",
        "    \n",
        "    d. Continue the loop until the user does not want to add another product.\n",
        "\n",
        "3. Instead of updating the inventory by subtracting 1 from the quantity of each product, only do it for  the products that were ordered (those in \"customer_orders\")."
      ]
    }
  ],
  "metadata": {
    "kernelspec": {
      "display_name": "Python 3 (ipykernel)",
      "language": "python",
      "name": "python3"
    },
    "language_info": {
      "codemirror_mode": {
        "name": "ipython",
        "version": 3
      },
      "file_extension": ".py",
      "mimetype": "text/x-python",
      "name": "python",
      "nbconvert_exporter": "python",
      "pygments_lexer": "ipython3",
      "version": "3.9.13"
    },
    "colab": {
      "provenance": []
    }
  },
  "nbformat": 4,
  "nbformat_minor": 5
}